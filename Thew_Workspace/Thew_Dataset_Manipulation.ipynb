{
 "cells": [
  {
   "cell_type": "markdown",
   "id": "fa17ba7c",
   "metadata": {},
   "source": [
    "# Working Test Space"
   ]
  },
  {
   "cell_type": "code",
   "execution_count": 36,
   "id": "9b45a405",
   "metadata": {},
   "outputs": [
    {
     "data": {
      "text/plain": [
       "4424"
      ]
     },
     "execution_count": 36,
     "metadata": {},
     "output_type": "execute_result"
    }
   ],
   "source": [
    "# Dependencies\n",
    "from matplotlib import pyplot as plt\n",
    "import numpy as np\n",
    "import pandas as pd\n",
    "\n",
    "Edu_Set = pd.read_csv('../Resources/dataset.csv')\n",
    "Edu_Set['Target'].count()"
   ]
  },
  {
   "cell_type": "code",
   "execution_count": 37,
   "id": "3a84701a",
   "metadata": {},
   "outputs": [],
   "source": [
    "# Rename Columns to Correct Names\n",
    "Edu_Set.rename(columns={'Nacionality': 'Nationality'}, inplace=True)"
   ]
  },
  {
   "cell_type": "code",
   "execution_count": 38,
   "id": "a28414c7",
   "metadata": {},
   "outputs": [],
   "source": [
    "# Replace Int values with names\n",
    "Edu_Set['Marital status'].replace({1: 'Single', 2: 'Married', 3: 'Widower', 4: 'Divorced', 5: 'Facto union', 6: 'Legally separated'}, inplace=True)\n",
    "Edu_Set['Nationality'].replace({1: 'Portuguese', 2: 'German', 3: 'Spanish', 4: 'Italian', 5: 'Dutch',\n",
    "6: 'English', 7: 'Lithuanian', 8: 'Angolan', 9: 'Cape Verdean', 10: 'Guinean',\n",
    "11: 'Mozambican', 12: 'Santomean', 13: 'Turkish', 14: 'Brazilian',\n",
    "15: 'Romanian', 16: 'Moldova (Republic of)', 17: 'Mexican', 18: 'Ukrainian',\n",
    "19: 'Russian', 20: 'Cuban', 21: 'Colombian'}, inplace=True)\n",
    "Edu_Set['Application mode'].replace({1: '1st phase—General contingent', 2: 'Ordinance No. 612/93',\n",
    "3: '1st phase—special contingent (Azores Island)', 4: 'Holders of other higher courses', 5: 'Ordinance No. 854-B/99',\n",
    "6: 'International student (bachelor)', 7: '1st phase—special contingent (Madeira Island)', 8: '2nd phase—General contingent',\n",
    "9: '3rd phase—General contingent', 10: 'Ordinance No. 533-A/99, item b2) (Different Plan)', 11: 'Ordinance No. 533-A/99, item b3 (Other Institution)',\n",
    "12: 'Over 23 years old', 13: 'Transfer', 14: 'Change in course', 15: 'Technological specialization diploma holders',\n",
    "16: 'Change in institution/course', 17: 'Short cycle diploma holders', 18: 'Change in institution/course (International)'}, inplace=True)\n",
    "Edu_Set['Course'].replace({1: 'Biofuel Production Technologies', 2: 'Animation and Multimedia Design', 3: 'Social Service (evening attendance)',\n",
    "4: 'Agronomy', 5: 'Communication Design', 6: 'Veterinary Nursing', 7: 'Informatics Engineering',\n",
    "8: 'Equiniculture', 9: 'Management', 10: 'Social Service', 11: 'Tourism', 12: 'Nursing',\n",
    "13: 'Oral Hygiene', 14: 'Advertising and Marketing Management', 15: 'Journalism and Communication',\n",
    "16: 'Basic Education', 17: 'Management (evening attendance)'}, inplace=True)\n",
    "Edu_Set['Previous qualification'].replace({1: 'Secondary education', 2: 'Higher education—bachelor’s degree',\n",
    "3: 'Higher education—degree', 4: 'Higher education—master’s degree', 5: 'Higher education—doctorate', 6: 'Frequency of higher education',\n",
    "7: '12th year of schooling—not completed', 8: '11th year of schooling—not completed', 9: 'Other—11th year of schooling', 10: '10th year of schooling',\n",
    "11: '10th year of schooling—not completed', 12: 'Basic education 3rd cycle (9th/10th/11th year) or equivalent',\n",
    "13: 'Basic education 2nd cycle (6th/7th/8th year) or equivalent', 14: 'Technological specialization course',\n",
    "15: 'Higher education—degree (1st cycle)', 16: 'Professional higher technical course', 17: 'Higher education—master’s degree (2nd cycle)'}, inplace=True)\n",
    "Qualification = {1: 'Secondary Education - 12th Year of Schooling or Equivalent', 2: 'Higher Education - bachelor’s degree',\n",
    "3: 'Higher Education - degree', 4: 'Higher Education - master’s degree', 5: 'Higher Education - doctorate',\n",
    "6: 'Frequency of Higher Education', 7: '12th Year of Schooling - not completed', 8: '11th Year of Schooling - not completed',\n",
    "9: '7th Year (Old)', 10: 'Other - 11th Year of Schooling', 11: '2nd year complementary high school course',\n",
    "12: '10th Year of Schooling', 13: 'General commerce course', 14: 'Basic Education 3rd Cycle (9th/10th/11th Year) or Equivalent',\n",
    "15: 'Complementary High School Course', 16: 'Technical-professional course', 17: 'Complementary High School Course - not concluded',\n",
    "18: '7th year of schooling', 19: '2nd cycle of the general high school course', 20: '9th Year of Schooling - not completed',\n",
    "21: '8th year of schooling', 22: 'General Course of Administration and Commerce', 23: 'Supplementary Accounting and Administration',\n",
    "24: 'Unknown', 25: 'Cannot read or write', 26: 'Can read without having a 4th year of schooling',\n",
    "27: 'Basic education 1st cycle (4th/5th year) or equivalent', 28: 'Basic Education 2nd Cycle (6th/7th/8th Year) or equivalent',\n",
    "29: 'Technological specialization course', 30: 'Higher education - degree (1st cycle)', 31: 'Specialized higher studies course',\n",
    "32: 'Professional higher technical course', 33: 'Higher Education - master’s degree (2nd cycle)', 34: 'Higher Education - doctorate (3rd cycle)'}\n",
    "Edu_Set['Mother\\'s qualification'] = Edu_Set['Mother\\'s qualification'].replace(Qualification)\n",
    "Edu_Set['Father\\'s qualification'] = Edu_Set['Father\\'s qualification'].replace(Qualification)\n",
    "Occupations = {1: \"Student\", 2: \"Representatives of the Legislative Power and Executive Bodies, Directors, Directors and Executive Managers\",\n",
    "3: \"Specialists in Intellectual and Scientific Activities\", 4: \"Intermediate Level Technicians and Professions\",\n",
    "5: \"Administrative staff\", 6: \"Personal Services, Security and Safety Workers, and Sellers\", 7: \"Farmers and Skilled Workers in Agriculture, Fisheries, and Forestry\",\n",
    "8: \"Skilled Workers in Industry, Construction, and Craftsmen\", 9: \"Installation and Machine Operators and Assembly Workers\",\n",
    "10: \"Unskilled Workers\", 11: \"Armed Forces Professions\", 12: \"Other Situation\", 13: \"(blank)\", 14: \"Armed Forces Officers\",\n",
    "15: \"Armed Forces Sergeants\", 16: \"Other Armed Forces personnel\", 17: \"Directors of administrative and commercial services\",\n",
    "18: \"Hotel, catering, trade, and other services directors\", 19: \"Specialists in the physical sciences, mathematics, engineering, and related techniques\",\n",
    "20: \"Health professionals\", 21: \"Teachers\", 22: \"Specialists in finance, accounting, administrative organization, and public and commercial relations\",\n",
    "23: \"Intermediate level science and engineering technicians and professions\", 24: \"Technicians and professionals of intermediate level of health\",\n",
    "25: \"Intermediate level technicians from legal, social, sports, cultural, and similar services\", 26: \"Information and communication technology technicians\",\n",
    "27: \"Office workers, secretaries in general, and data processing operators\", 28: \"Data, accounting, statistical, financial services, and registry-related operators\",\n",
    "29: \"Other administrative support staff\", 30: \"Personal service workers\", 31: \"Sellers\", 32: \"Personal care workers and the like\",\n",
    "33: \"Protection and security services personnel\", 34: \"Market-oriented farmers and skilled agricultural and animal production workers\",\n",
    "35: \"Farmers, livestock keepers, fishermen, hunters and gatherers, and subsistence\", 36: \"Skilled construction workers and the like, except electricians\",\n",
    "37: \"Skilled workers in metallurgy, metalworking, and similar\", 38: \"Skilled workers in electricity and electronics\",\n",
    "39: \"Workers in food processing, woodworking, and clothing and other industries and crafts\", 40: \"Fixed plant and machine operators\",\n",
    "41: \"Assembly workers\", 42: \"Vehicle drivers and mobile equipment operators\", 43: \"Unskilled workers in agriculture, animal production, and fisheries and forestry\",\n",
    "44: \"Unskilled workers in extractive industry, construction, manufacturing, and transport\", 45: \"Meal preparation assistants\",\n",
    "46: \"Street vendors (except food) and street service providers\"}\n",
    "Edu_Set['Mother\\'s occupation'] = Edu_Set['Mother\\'s occupation'].replace(Occupations)\n",
    "Edu_Set['Father\\'s occupation'] = Edu_Set['Father\\'s occupation'].replace(Occupations)\n",
    "Edu_Set['Gender'].replace({1: 'male', 0: 'female'}, inplace=True)\n",
    "Edu_Set['Daytime/evening attendance'] = Edu_Set['Daytime/evening attendance'].replace({1: 'daytime', 0: 'evening'})\n",
    "YES_NO_Vals = {1: \"yes\", 0: \"no\"}\n",
    "Edu_Set['Displaced'] = Edu_Set['Displaced'].replace(YES_NO_Vals)\n",
    "Edu_Set['Educational special needs'] = Edu_Set['Educational special needs'].replace(YES_NO_Vals)\n",
    "Edu_Set['Debtor'] = Edu_Set['Debtor'].replace(YES_NO_Vals)\n",
    "Edu_Set['Tuition fees up to date'] = Edu_Set['Tuition fees up to date'].replace(YES_NO_Vals)\n",
    "Edu_Set['Scholarship holder'] = Edu_Set['Scholarship holder'].replace(YES_NO_Vals)\n",
    "Edu_Set['International'] = Edu_Set['International'].replace(YES_NO_Vals)"
   ]
  },
  {
   "cell_type": "code",
   "execution_count": 39,
   "id": "c9150e82",
   "metadata": {},
   "outputs": [
    {
     "data": {
      "text/plain": [
       "3630"
      ]
     },
     "execution_count": 39,
     "metadata": {},
     "output_type": "execute_result"
    }
   ],
   "source": [
    "Edu_LE = Edu_Set[Edu_Set[\"Target\"] != \"Enrolled\"]\n",
    "Edu_LE['Target'].count()"
   ]
  },
  {
   "cell_type": "code",
   "execution_count": null,
   "id": "74427f2a",
   "metadata": {},
   "outputs": [],
   "source": []
  }
 ],
 "metadata": {
  "kernelspec": {
   "display_name": "Python 3 (ipykernel)",
   "language": "python",
   "name": "python3"
  },
  "language_info": {
   "codemirror_mode": {
    "name": "ipython",
    "version": 3
   },
   "file_extension": ".py",
   "mimetype": "text/x-python",
   "name": "python",
   "nbconvert_exporter": "python",
   "pygments_lexer": "ipython3",
   "version": "3.9.13"
  }
 },
 "nbformat": 4,
 "nbformat_minor": 5
}
